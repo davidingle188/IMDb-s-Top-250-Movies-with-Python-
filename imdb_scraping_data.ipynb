{
 "cells": [
  {
   "cell_type": "code",
   "execution_count": 1,
   "id": "b7c5daf9-caab-4960-a6b8-4743c7ee6943",
   "metadata": {},
   "outputs": [],
   "source": [
    "import pandas as pd\n",
    "import numpy as np\n",
    "from bs4 import BeautifulSoup\n",
    "import requests"
   ]
  },
  {
   "cell_type": "code",
   "execution_count": 2,
   "id": "8197b4a9-53e4-4e23-b8ce-9ed117696279",
   "metadata": {},
   "outputs": [],
   "source": [
    "url = 'https://www.imdb.com/chart/top/?ref_=nv_mv_250'\n",
    "headers = {\n",
    "    'User-Agent': 'Mozilla/5.0 (Windows NT 10.0; Win64; x64) AppleWebKit/537.36 (KHTML, like Gecko) Chrome/91.0.4472.124 Safari/537.36'\n",
    "}\n",
    "response = requests.get(url, headers=headers)\n",
    "soup = BeautifulSoup(response.text, 'html.parser')"
   ]
  },
  {
   "cell_type": "code",
   "execution_count": 3,
   "id": "d91f88fc-bea5-4031-8786-32dc6102dbc5",
   "metadata": {},
   "outputs": [],
   "source": [
    "movies = soup.find('ul', class_=\"ipc-metadata-list ipc-metadata-list--dividers-between sc-a1e81754-0 eBRbsI compact-list-view ipc-metadata-list--base\").find_all('h3')"
   ]
  },
  {
   "cell_type": "code",
   "execution_count": 109,
   "id": "302a0bfd-084c-4a69-a8c5-37667062dc2e",
   "metadata": {},
   "outputs": [],
   "source": [
    "title = []\n",
    "\n",
    "for movie in movies:\n",
    "    title.append(movie.text.split('.')[1].strip())"
   ]
  },
  {
   "cell_type": "code",
   "execution_count": 108,
   "id": "ef3fdb4e-4e4b-43e4-b3d0-2b19de8e0323",
   "metadata": {},
   "outputs": [],
   "source": [
    "rank = []\n",
    "\n",
    "for movie in movies:\n",
    "    rank.append(movie.text.split('.')[0].strip())\n"
   ]
  },
  {
   "cell_type": "code",
   "execution_count": 38,
   "id": "9ca49455-c6ca-417b-ba31-72b65f61d731",
   "metadata": {},
   "outputs": [],
   "source": [
    "imdb_ratings = soup.find('ul', class_=\"ipc-metadata-list ipc-metadata-list--dividers-between sc-a1e81754-0 eBRbsI compact-list-view ipc-metadata-list--base\").find_all('div',class_=\"sc-e2dbc1a3-0 ajrIH sc-b189961a-2 fkPBP cli-ratings-container\")"
   ]
  },
  {
   "cell_type": "code",
   "execution_count": 52,
   "id": "ce781fd0-17a9-4161-84be-3bcf941e7979",
   "metadata": {},
   "outputs": [],
   "source": [
    "imdb_ratings_list = []\n",
    "for imdb_rating in imdb_ratings:\n",
    "    imdb = imdb_rating.find('span').text.strip()\n",
    "    imdb_ratings_list.append(imdb[0:3])\n",
    "    "
   ]
  },
  {
   "cell_type": "code",
   "execution_count": null,
   "id": "9db8f11b-697f-4525-84c9-75d48ddb07e6",
   "metadata": {},
   "outputs": [],
   "source": [
    "imdb_ratings_list"
   ]
  },
  {
   "cell_type": "code",
   "execution_count": 87,
   "id": "86893fcd-b075-410e-b876-a476d8cc8f33",
   "metadata": {},
   "outputs": [],
   "source": [
    "all_data = soup.find('ul', class_=\"ipc-metadata-list ipc-metadata-list--dividers-between sc-a1e81754-0 eBRbsI compact-list-view ipc-metadata-list--base\").find_all('div',class_=\"sc-b189961a-7 feoqjK cli-title-metadata\")"
   ]
  },
  {
   "cell_type": "code",
   "execution_count": 99,
   "id": "702dbb1b-45e8-42a1-945a-15fef9f15d55",
   "metadata": {},
   "outputs": [],
   "source": [
    "\n",
    "year = []\n",
    "hour = []\n",
    "for data in all_data:\n",
    "    year_hour = data.find_all('span')\n",
    "    year.append(year_hour[0].text)\n",
    "    hour.append(year_hour[1].text)"
   ]
  },
  {
   "cell_type": "code",
   "execution_count": 101,
   "id": "8339658f-91b4-41e3-a99f-4eeb53eeab3c",
   "metadata": {},
   "outputs": [],
   "source": [
    "# Create a dictionary with keys as column names and values as lists\n",
    "data = {\n",
    "    'Rank': rank,\n",
    "    'Movie Title': title,\n",
    "    'IMDB Rating': imdb_ratings_list,\n",
    "    'Year': year,\n",
    "    'Hour': hour\n",
    "}"
   ]
  },
  {
   "cell_type": "code",
   "execution_count": 102,
   "id": "e50ba970-8194-45df-a55a-91258bcc7a24",
   "metadata": {},
   "outputs": [],
   "source": [
    "df = pd.DataFrame(data = data)"
   ]
  },
  {
   "cell_type": "code",
   "execution_count": 107,
   "id": "105d7f6b-1bc0-41d0-a187-161f1e7000d9",
   "metadata": {},
   "outputs": [
    {
     "data": {
      "text/html": [
       "<div>\n",
       "<style scoped>\n",
       "    .dataframe tbody tr th:only-of-type {\n",
       "        vertical-align: middle;\n",
       "    }\n",
       "\n",
       "    .dataframe tbody tr th {\n",
       "        vertical-align: top;\n",
       "    }\n",
       "\n",
       "    .dataframe thead th {\n",
       "        text-align: right;\n",
       "    }\n",
       "</style>\n",
       "<table border=\"1\" class=\"dataframe\">\n",
       "  <thead>\n",
       "    <tr style=\"text-align: right;\">\n",
       "      <th></th>\n",
       "      <th>Rank</th>\n",
       "      <th>Movie Title</th>\n",
       "      <th>IMDB Rating</th>\n",
       "      <th>Year</th>\n",
       "      <th>Hour</th>\n",
       "    </tr>\n",
       "  </thead>\n",
       "  <tbody>\n",
       "    <tr>\n",
       "      <th>0</th>\n",
       "      <td>1</td>\n",
       "      <td>The Shawshank Redemption</td>\n",
       "      <td>9.3</td>\n",
       "      <td>1994</td>\n",
       "      <td>2h 22m</td>\n",
       "    </tr>\n",
       "    <tr>\n",
       "      <th>1</th>\n",
       "      <td>2</td>\n",
       "      <td>The Godfather</td>\n",
       "      <td>9.2</td>\n",
       "      <td>1972</td>\n",
       "      <td>2h 55m</td>\n",
       "    </tr>\n",
       "    <tr>\n",
       "      <th>2</th>\n",
       "      <td>3</td>\n",
       "      <td>The Dark Knight</td>\n",
       "      <td>9.0</td>\n",
       "      <td>2008</td>\n",
       "      <td>2h 32m</td>\n",
       "    </tr>\n",
       "    <tr>\n",
       "      <th>3</th>\n",
       "      <td>4</td>\n",
       "      <td>The Godfather: Part II</td>\n",
       "      <td>9.0</td>\n",
       "      <td>1974</td>\n",
       "      <td>3h 22m</td>\n",
       "    </tr>\n",
       "    <tr>\n",
       "      <th>4</th>\n",
       "      <td>5</td>\n",
       "      <td>12 Angry Men</td>\n",
       "      <td>9.0</td>\n",
       "      <td>1957</td>\n",
       "      <td>1h 36m</td>\n",
       "    </tr>\n",
       "    <tr>\n",
       "      <th>...</th>\n",
       "      <td>...</td>\n",
       "      <td>...</td>\n",
       "      <td>...</td>\n",
       "      <td>...</td>\n",
       "      <td>...</td>\n",
       "    </tr>\n",
       "    <tr>\n",
       "      <th>245</th>\n",
       "      <td>246</td>\n",
       "      <td>It Happened One Night</td>\n",
       "      <td>8.1</td>\n",
       "      <td>1934</td>\n",
       "      <td>1h 45m</td>\n",
       "    </tr>\n",
       "    <tr>\n",
       "      <th>246</th>\n",
       "      <td>247</td>\n",
       "      <td>Dances with Wolves</td>\n",
       "      <td>8.0</td>\n",
       "      <td>1990</td>\n",
       "      <td>3h 1m</td>\n",
       "    </tr>\n",
       "    <tr>\n",
       "      <th>247</th>\n",
       "      <td>248</td>\n",
       "      <td>Aladdin</td>\n",
       "      <td>8.0</td>\n",
       "      <td>1992</td>\n",
       "      <td>1h 30m</td>\n",
       "    </tr>\n",
       "    <tr>\n",
       "      <th>248</th>\n",
       "      <td>249</td>\n",
       "      <td>Drishyam</td>\n",
       "      <td>8.2</td>\n",
       "      <td>2015</td>\n",
       "      <td>2h 43m</td>\n",
       "    </tr>\n",
       "    <tr>\n",
       "      <th>249</th>\n",
       "      <td>250</td>\n",
       "      <td>Kill Bill: Vol</td>\n",
       "      <td>8.0</td>\n",
       "      <td>2004</td>\n",
       "      <td>2h 17m</td>\n",
       "    </tr>\n",
       "  </tbody>\n",
       "</table>\n",
       "<p>250 rows × 5 columns</p>\n",
       "</div>"
      ],
      "text/plain": [
       "    Rank               Movie Title IMDB Rating  Year    Hour\n",
       "0      1  The Shawshank Redemption         9.3  1994  2h 22m\n",
       "1      2             The Godfather         9.2  1972  2h 55m\n",
       "2      3           The Dark Knight         9.0  2008  2h 32m\n",
       "3      4    The Godfather: Part II         9.0  1974  3h 22m\n",
       "4      5              12 Angry Men         9.0  1957  1h 36m\n",
       "..   ...                       ...         ...   ...     ...\n",
       "245  246     It Happened One Night         8.1  1934  1h 45m\n",
       "246  247        Dances with Wolves         8.0  1990   3h 1m\n",
       "247  248                   Aladdin         8.0  1992  1h 30m\n",
       "248  249                  Drishyam         8.2  2015  2h 43m\n",
       "249  250            Kill Bill: Vol         8.0  2004  2h 17m\n",
       "\n",
       "[250 rows x 5 columns]"
      ]
     },
     "execution_count": 107,
     "metadata": {},
     "output_type": "execute_result"
    }
   ],
   "source": [
    "df.to_csv('top_250_movie.csv', index= False)"
   ]
  },
  {
   "cell_type": "code",
   "execution_count": null,
   "id": "9cdc668d-f486-4317-a514-d93483e76b31",
   "metadata": {},
   "outputs": [],
   "source": []
  }
 ],
 "metadata": {
  "kernelspec": {
   "display_name": "Python 3 (ipykernel)",
   "language": "python",
   "name": "python3"
  },
  "language_info": {
   "codemirror_mode": {
    "name": "ipython",
    "version": 3
   },
   "file_extension": ".py",
   "mimetype": "text/x-python",
   "name": "python",
   "nbconvert_exporter": "python",
   "pygments_lexer": "ipython3",
   "version": "3.12.1"
  }
 },
 "nbformat": 4,
 "nbformat_minor": 5
}
